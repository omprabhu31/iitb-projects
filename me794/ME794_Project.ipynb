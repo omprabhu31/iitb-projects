{
 "cells": [
  {
   "cell_type": "markdown",
   "metadata": {
    "id": "cCKyjWiG9OTB"
   },
   "source": [
    "### ME 794 Assignment 3 - Om Prabhu (19D170018)\n",
    "\n",
    "**Question 2**"
   ]
  },
  {
   "cell_type": "code",
   "execution_count": 1,
   "metadata": {
    "id": "TMdwXeOK9mLj"
   },
   "outputs": [],
   "source": [
    "# import necessary packages\n",
    "import numpy as np\n",
    "from scipy.stats import ttest_ind, t"
   ]
  },
  {
   "cell_type": "markdown",
   "metadata": {
    "id": "fZJVZ0JVBNvp"
   },
   "source": [
    "**Question 2(b)**"
   ]
  },
  {
   "cell_type": "code",
   "execution_count": 5,
   "metadata": {
    "colab": {
     "base_uri": "https://localhost:8080/"
    },
    "id": "hq0RZHm39xU0",
    "outputId": "564b0216-0acf-409d-9a42-b1f8cde69b0c"
   },
   "outputs": [
    {
     "name": "stdout",
     "output_type": "stream",
     "text": [
      "T-Value: -0.6818869030116431\n",
      "P-Value: 0.5031034313611911\n",
      "Not enough evidence to reject the null hypothesis.\n",
      "19.416666666666668\n",
      "20.0\n",
      "2.398254415699937\n",
      "1.7407783003326676\n"
     ]
    }
   ],
   "source": [
    "# data\n",
    "m1 = [21.67, 20, 21.67, 20, 20, 18.33, 20, 21.67, 16, 20, 13.66, 20]\n",
    "m2 = [20, 23.33, 18.33, 20, 21.67, 20, 16.67, 21.67, 18.33, 20, 20, 20]\n",
    "\n",
    "# calculate the means and standard deviations of the two samples\n",
    "m1_mean, m2_mean = np.mean(m1), np.mean(m2)\n",
    "m1_std, m2_std = np.std(m1, ddof=1), np.std(m2, ddof=1)\n",
    "\n",
    "# calculate the t-value and p-value\n",
    "t_val, p_val = ttest_ind(m1, m2, equal_var = False)\n",
    "alpha = 0.05\n",
    "\n",
    "# print the results of the two sample t-test\n",
    "print(\"T-Value:\", t_val)\n",
    "print(\"P-Value:\", p_val)\n",
    "\n",
    "if p_val < alpha:\n",
    "    print(\"Reject the null hypothesis.\")\n",
    "else:\n",
    "    print(\"Not enough evidence to reject the null hypothesis.\")\n",
    "    \n",
    "print(m1_mean)\n",
    "print(m2_mean)\n",
    "print(m1_std)\n",
    "print(m2_std)"
   ]
  },
  {
   "cell_type": "markdown",
   "metadata": {
    "id": "enCEM8BBBUPg"
   },
   "source": [
    "**Question 2(c)**"
   ]
  },
  {
   "cell_type": "code",
   "execution_count": 3,
   "metadata": {
    "colab": {
     "base_uri": "https://localhost:8080/",
     "height": 676
    },
    "id": "CQPclzdPBZ5X",
    "outputId": "290226b4-ece9-4b17-a0e8-b7bf0b8a778e"
   },
   "outputs": [
    {
     "name": "stdout",
     "output_type": "stream",
     "text": [
      "95% Confidence Interval for Mean Difference: (-4.734, 10.785)\n"
     ]
    }
   ],
   "source": [
    "# calculate the standard error of the difference between the means\n",
    "se = np.sqrt((m1_std ** 2 / len(m1)) + (m2_std ** 2 / len(m2)))\n",
    "\n",
    "# calculate the t-value\n",
    "dof = len(m1) + len(m2) - 2\n",
    "t_val = abs(t.ppf(alpha / 2, dof))\n",
    "\n",
    "# calculate the confidence interval\n",
    "lower = (m1_mean - m2_mean) - t_val * se\n",
    "upper = (m1_mean - m2_mean) + t_val * se\n",
    "\n",
    "# print the confidence interval\n",
    "print(\"95% Confidence Interval for Mean Difference: ({:.3f}, {:.3f})\".format(lower, upper))"
   ]
  },
  {
   "cell_type": "code",
   "execution_count": null,
   "metadata": {},
   "outputs": [],
   "source": []
  }
 ],
 "metadata": {
  "colab": {
   "provenance": []
  },
  "kernelspec": {
   "display_name": "Python 3 (ipykernel)",
   "language": "python",
   "name": "python3"
  },
  "language_info": {
   "codemirror_mode": {
    "name": "ipython",
    "version": 3
   },
   "file_extension": ".py",
   "mimetype": "text/x-python",
   "name": "python",
   "nbconvert_exporter": "python",
   "pygments_lexer": "ipython3",
   "version": "3.10.9"
  }
 },
 "nbformat": 4,
 "nbformat_minor": 4
}
